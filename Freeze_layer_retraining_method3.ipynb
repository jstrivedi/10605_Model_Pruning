{
  "nbformat": 4,
  "nbformat_minor": 0,
  "metadata": {
    "colab": {
      "name": "Retraining after pruning.ipynb",
      "provenance": [],
      "collapsed_sections": []
    },
    "kernelspec": {
      "name": "python3",
      "display_name": "Python 3"
    },
    "language_info": {
      "name": "python"
    },
    "accelerator": "GPU"
  },
  "cells": [
    {
      "cell_type": "code",
      "metadata": {
        "colab": {
          "base_uri": "https://localhost:8080/"
        },
        "id": "04eJhBsCf1Ci",
        "outputId": "0563b4dc-48b8-4c05-e222-8c9919f42bdd"
      },
      "source": [
        "import os\n",
        "import numpy as np\n",
        "import cv2\n",
        "import matplotlib.pyplot as plt\n",
        "import pickle\n",
        "\n",
        "import tensorflow as tf\n",
        "from tensorflow import keras\n",
        "from tensorflow.keras import datasets, layers, models, regularizers\n",
        "from tensorflow.keras.layers import *\n",
        "\n",
        "print(tf.version.VERSION)\n"
      ],
      "execution_count": null,
      "outputs": [
        {
          "output_type": "stream",
          "name": "stdout",
          "text": [
            "2.7.0\n"
          ]
        }
      ]
    },
    {
      "cell_type": "code",
      "metadata": {
        "colab": {
          "base_uri": "https://localhost:8080/"
        },
        "id": "zsTvfehOf3LC",
        "outputId": "4391a10a-bebd-4c94-c055-3f267ca48a95"
      },
      "source": [
        "# untar\n",
        "!tar -xvzf dataset.tar.gz\n",
        "# load train\n",
        "train_images = pickle.load(open('train_images.pkl', 'rb'))\n",
        "train_labels = pickle.load(open('train_labels.pkl', 'rb'))\n",
        "# load val\n",
        "val_images = pickle.load(open('val_images.pkl', 'rb'))\n",
        "val_labels = pickle.load(open('val_labels.pkl', 'rb'))"
      ],
      "execution_count": null,
      "outputs": [
        {
          "output_type": "stream",
          "name": "stdout",
          "text": [
            "train_images.pkl\n",
            "train_labels.pkl\n",
            "val_images.pkl\n",
            "val_labels.pkl\n"
          ]
        }
      ]
    },
    {
      "cell_type": "code",
      "metadata": {
        "id": "i0NEaQgIf_CV"
      },
      "source": [
        "# Define the neural network architecture (don't change this)\n",
        "\n",
        "model = models.Sequential()\n",
        "model.add(Conv2D(32, (3, 3), padding='same', kernel_regularizer=regularizers.l2(1e-5), input_shape=(25,25,3)))\n",
        "model.add(Activation('relu'))\n",
        "model.add(Conv2D(32, (3, 3), kernel_regularizer=regularizers.l2(1e-5)))\n",
        "model.add(Activation('relu'))\n",
        "model.add(MaxPooling2D(pool_size=(2, 2)))\n",
        "model.add(Dropout(0.25))\n",
        "model.add(Conv2D(64, (3, 3), padding='same', kernel_regularizer=regularizers.l2(1e-5)))\n",
        "model.add(Activation('relu'))\n",
        "model.add(Conv2D(64, (3, 3), kernel_regularizer=regularizers.l2(1e-5)))\n",
        "model.add(Activation('relu'))\n",
        "model.add(MaxPooling2D(pool_size=(2, 2)))\n",
        "model.add(Dropout(0.25))\n",
        "model.add(Flatten())\n",
        "model.add(Dense(512))\n",
        "model.add(Activation('relu'))\n",
        "model.add(Dropout(0.5))\n",
        "model.add(Dense(5))\n",
        "model.add(Activation('softmax'))"
      ],
      "execution_count": null,
      "outputs": []
    },
    {
      "cell_type": "code",
      "metadata": {
        "id": "vp1gQDlLLnLF"
      },
      "source": [
        "print(model.summary())"
      ],
      "execution_count": null,
      "outputs": []
    },
    {
      "cell_type": "code",
      "metadata": {
        "colab": {
          "base_uri": "https://localhost:8080/"
        },
        "id": "Dr8_Nd2tf_Im",
        "outputId": "7f9d55d7-e855-4b39-ee0e-7d04b91fe1ee"
      },
      "source": [
        "# We trained the initial model upto 300 epochs to get a training accuracy around 97%\n",
        "\n",
        "model.compile(optimizer=keras.optimizers.Adam(learning_rate=0.0001, decay=1e-6),\n",
        "              loss=tf.keras.losses.SparseCategoricalCrossentropy(from_logits=True),\n",
        "              metrics=['accuracy'])\n",
        "history = model.fit(train_images, train_labels, batch_size=32, epochs=300, \n",
        "                    validation_data=(val_images, val_labels))"
      ],
      "execution_count": null,
      "outputs": [
        {
          "output_type": "stream",
          "name": "stderr",
          "text": [
            "/usr/local/lib/python3.7/dist-packages/tensorflow/python/util/dispatch.py:1096: UserWarning: \"`sparse_categorical_crossentropy` received `from_logits=True`, but the `output` argument was produced by a sigmoid or softmax activation and thus does not represent logits. Was this intended?\"\n",
            "  return dispatch_target(*args, **kwargs)\n"
          ]
        },
        {
          "output_type": "stream",
          "name": "stdout",
          "text": [
            "90/90 [==============================] - 4s 30ms/step - loss: 0.0792 - accuracy: 0.9741 - val_loss: 1.0406 - val_accuracy: 0.7632\n"
          ]
        }
      ]
    },
    {
      "cell_type": "markdown",
      "metadata": {
        "id": "XjlVLn1JMPfU"
      },
      "source": [
        "In this method I have implemented layer by layer freezing of pruned weights and then retraining the rest of the weights."
      ]
    },
    {
      "cell_type": "code",
      "metadata": {
        "id": "nSJ5qpsgKdRO"
      },
      "source": [
        "# List to store the sparsity and accuracy after retraining the model with pruning\n",
        "spar=[]\n",
        "accu=[]"
      ],
      "execution_count": null,
      "outputs": []
    },
    {
      "cell_type": "code",
      "metadata": {
        "id": "_hMzGn5xusHy"
      },
      "source": [
        "k_99 = np.arange(100)       # Creates an array of equally spaced numbers upto 99\n",
        "k_60 = np.arange(61)        # Creates an array of equally spaced numbers upto 60 \n",
        "lay = [8,9]                 # Weights to be pruned\n",
        "model.layers[10].trainable=False # Layers corresponding to the weights\n",
        "model.layers[11].trainable=False\n",
        "model.layers[12].trainable=False\n",
        "model.layers[13].trainable=False\n",
        "model.layers[14].trainable=False\n",
        "model.layers[15].trainable=False\n",
        "\n",
        "for i in k_99:\n",
        "  if i<80:\n",
        "    tr_weights=np.copy(model.get_weights())\n",
        "    for j in lay:\n",
        "      weights = model.get_weights()\n",
        "      thres = np.percentile(np.absolute(weights[j]),i)\n",
        "      tr = np.absolute(weights[j])>thres\n",
        "      tr_weights[j] = np.multiply(weights[j],tr)\n",
        "    model.set_weights(tr_weights)\n",
        "    model.compile(optimizer=keras.optimizers.Adam(learning_rate=0.0001, decay=1e-6),\n",
        "                  loss=tf.keras.losses.SparseCategoricalCrossentropy(from_logits=True),\n",
        "                  metrics=['accuracy'])\n",
        "    history = model.fit(train_images, train_labels, batch_size=120, epochs=50, \n",
        "                        validation_data=(val_images, val_labels))\n",
        "    spar.append(np.sum(np.hstack([k.flatten() for k in tr_weights])==0)/np.shape(np.hstack([k.flatten() for k in tr_weights]))[0])\n",
        "    result = model.evaluate(val_images,val_labels,batch_size=128)\n",
        "    accu.append(result[1])\n",
        "  else:\n",
        "    tr_weights=np.copy(model.get_weights())\n",
        "    for j in lay:\n",
        "      weights = model.get_weights()\n",
        "      thres = np.percentile(np.absolute(weights[j]),i)\n",
        "      tr = np.absolute(weights[j])>thres\n",
        "      tr_weights[j] = np.multiply(weights[j],tr)\n",
        "    model.set_weights(tr_weights)\n",
        "    model.compile(optimizer=keras.optimizers.Adam(learning_rate=0.0001, decay=1e-6),\n",
        "                  loss=tf.keras.losses.SparseCategoricalCrossentropy(from_logits=True),\n",
        "                  metrics=['accuracy'])\n",
        "    history = model.fit(train_images, train_labels, batch_size=32, epochs=100, \n",
        "                        validation_data=(val_images, val_labels))\n",
        "    spar.append(np.sum(np.hstack([k.flatten() for k in tr_weights])==0)/np.shape(np.hstack([k.flatten() for k in tr_weights]))[0])\n",
        "    result = model.evaluate(val_images,val_labels,batch_size=128)\n",
        "    accu.append(result[1])"
      ],
      "execution_count": null,
      "outputs": []
    },
    {
      "cell_type": "code",
      "metadata": {
        "id": "_Ro9ifefK-DY"
      },
      "source": [
        "lay = [6,7]\n",
        "model.layers[8].trainable=False #6,7\n",
        "model.layers[9].trainable=False\n",
        "for i in k_99:\n",
        "  tr_weights=np.copy(model.get_weights())\n",
        "  for j in lay:\n",
        "    weights = model.get_weights()\n",
        "    thres = np.percentile(np.absolute(weights[j]),i)\n",
        "    tr = np.absolute(weights[j])>thres\n",
        "    tr_weights[j] = np.multiply(weights[j],tr)\n",
        "  model.set_weights(tr_weights)\n",
        "  model.compile(optimizer=keras.optimizers.Adam(learning_rate=0.0001, decay=1e-6),\n",
        "                  loss=tf.keras.losses.SparseCategoricalCrossentropy(from_logits=True),\n",
        "                  metrics=['accuracy'])\n",
        "  history = model.fit(train_images, train_labels, batch_size=32, epochs=150, \n",
        "                        validation_data=(val_images, val_labels))\n",
        "  spar.append(np.sum(np.hstack([k.flatten() for k in tr_weights])==0)/np.shape(np.hstack([k.flatten() for k in tr_weights]))[0])\n",
        "  result = model.evaluate(val_images,val_labels,batch_size=128)\n",
        "  accu.append(result[1])"
      ],
      "execution_count": null,
      "outputs": []
    },
    {
      "cell_type": "code",
      "metadata": {
        "id": "lXp5WNBqLNNs"
      },
      "source": [
        "lay = [4,5]\n",
        "model.layers[4].trainable=False#4,5\n",
        "model.layers[5].trainable=False\n",
        "model.layers[6].trainable=False\n",
        "model.layers[7].trainable=False\n",
        "for i in k_60:\n",
        "  tr_weights=np.copy(model.get_weights())\n",
        "  for j in lay:\n",
        "    weights = model.get_weights()\n",
        "    thres = np.percentile(np.absolute(weights[j]),i)\n",
        "    tr = np.absolute(weights[j])>thres\n",
        "    tr_weights[j] = np.multiply(weights[j],tr)\n",
        "  model.set_weights(tr_weights)\n",
        "  model.compile(optimizer=keras.optimizers.Adam(learning_rate=0.0001, decay=1e-6),\n",
        "                  loss=tf.keras.losses.SparseCategoricalCrossentropy(from_logits=True),\n",
        "                  metrics=['accuracy'])\n",
        "  history = model.fit(train_images, train_labels, batch_size=32, epochs=2000, \n",
        "                        validation_data=(val_images, val_labels))\n",
        "  spar.append(np.sum(np.hstack([k.flatten() for k in tr_weights])==0)/np.shape(np.hstack([k.flatten() for k in tr_weights]))[0])\n",
        "  result = model.evaluate(val_images,val_labels,batch_size=128)\n",
        "  accu.append(result[1])"
      ],
      "execution_count": null,
      "outputs": []
    },
    {
      "cell_type": "code",
      "metadata": {
        "colab": {
          "base_uri": "https://localhost:8080/",
          "height": 296
        },
        "id": "Ks6b55hqF1cr",
        "outputId": "c1714508-b1ad-44e5-99cb-b61cad9639b5"
      },
      "source": [
        "plt.plot(spar,accu,color='red')\n",
        "plt.xlabel(\"Sparsity\")\n",
        "plt.ylabel(\"Accuracy\")"
      ],
      "execution_count": null,
      "outputs": [
        {
          "output_type": "execute_result",
          "data": {
            "text/plain": [
              "Text(0, 0.5, 'Accuracy')"
            ]
          },
          "metadata": {},
          "execution_count": 101
        },
        {
          "output_type": "display_data",
          "data": {
            "image/png": "[encoded data removed]",
            "text/plain": [
              "<Figure size 432x288 with 1 Axes>"
            ]
          },
          "metadata": {
            "needs_background": "light"
          }
        }
      ]
    },
    {
      "cell_type": "code",
      "metadata": {
        "id": "RvilbaJfLtfa"
      },
      "source": [
        "from google.colab import files\n",
        "sparse_model_weight.save_weights(\"my_model_weights.h5\")\n",
        "files.download(\"my_model_weights.h5\")"
      ],
      "execution_count": null,
      "outputs": []
    }
  ]
}